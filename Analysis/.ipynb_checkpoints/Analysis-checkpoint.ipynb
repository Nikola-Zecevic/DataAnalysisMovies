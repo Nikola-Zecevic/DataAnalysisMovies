{
 "cells": [
  {
   "cell_type": "markdown",
   "id": "3395575f-a595-4dfb-80d8-195048a398a3",
   "metadata": {},
   "source": [
    "# Exploring Factors Influencing Movie Success!"
   ]
  },
  {
   "cell_type": "markdown",
   "id": "a36833ef-3a21-4163-979e-562782bbcf1e",
   "metadata": {},
   "source": [
    "### Hypothesis 1: Bigger budget leads to bigger gross!"
   ]
  },
  {
   "cell_type": "markdown",
   "id": "c2b0bf74-36e5-44dd-9135-921de8a9d27a",
   "metadata": {},
   "source": [
    "Conclusion for Hypotesis 1:"
   ]
  },
  {
   "cell_type": "code",
   "execution_count": null,
   "id": "f94009c1-3fd2-4f35-be1d-2879034ca30b",
   "metadata": {},
   "outputs": [],
   "source": []
  },
  {
   "cell_type": "markdown",
   "id": "2a39cf7c-0a96-469c-a1bd-c377b0dd6ef4",
   "metadata": {},
   "source": [
    "### Hypothesis 2: Movies with higher score have higher gross!"
   ]
  },
  {
   "cell_type": "markdown",
   "id": "01218d0b-d119-4df0-95eb-1243a0cacd6d",
   "metadata": {},
   "source": [
    "Conclusion for Hypotesis 2:"
   ]
  },
  {
   "cell_type": "code",
   "execution_count": null,
   "id": "e37a39e6-4302-4846-82e9-a95a58b8b8ed",
   "metadata": {},
   "outputs": [],
   "source": []
  },
  {
   "cell_type": "markdown",
   "id": "c4fc52f6-62ce-491d-adb5-fbabc21b5485",
   "metadata": {},
   "source": [
    "### Hypothesis 3: Certain genres are more profitable!"
   ]
  },
  {
   "cell_type": "markdown",
   "id": "5bf8e1ca-0115-41d0-a6ca-6f3765de3f7e",
   "metadata": {},
   "source": [
    "Conclusion for Hypotesis 3:"
   ]
  },
  {
   "cell_type": "code",
   "execution_count": null,
   "id": "82f9b93c-89b5-4462-a667-fff182e0ffd8",
   "metadata": {},
   "outputs": [],
   "source": []
  },
  {
   "cell_type": "markdown",
   "id": "252ddb59-fb54-46da-b681-30a0e6ddddac",
   "metadata": {},
   "source": [
    "### Hypothesis 4: Having famous actors increases movie gross!"
   ]
  },
  {
   "cell_type": "markdown",
   "id": "1a561541-46c6-4a0e-a175-f1abde47c3c5",
   "metadata": {},
   "source": [
    "Conclusion for Hypotesis 4:"
   ]
  },
  {
   "cell_type": "code",
   "execution_count": null,
   "id": "08bf8e3f-16d3-43ce-b9e7-302443bb1d6b",
   "metadata": {},
   "outputs": [],
   "source": []
  }
 ],
 "metadata": {
  "kernelspec": {
   "display_name": "Python [conda env:base] *",
   "language": "python",
   "name": "conda-base-py"
  },
  "language_info": {
   "codemirror_mode": {
    "name": "ipython",
    "version": 3
   },
   "file_extension": ".py",
   "mimetype": "text/x-python",
   "name": "python",
   "nbconvert_exporter": "python",
   "pygments_lexer": "ipython3",
   "version": "3.13.5"
  }
 },
 "nbformat": 4,
 "nbformat_minor": 5
}
